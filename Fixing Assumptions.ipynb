{
 "cells": [
  {
   "cell_type": "code",
   "execution_count": null,
   "metadata": {},
   "outputs": [],
   "source": [
    "\n",
    "#To fix the multivariate non-normality. \n",
    "columns = list(data[['TV','Radio','Newspaper']].columns)\n",
    "for column in columns: \n",
    "    q25 = data[column].quantile(0.25)\n",
    "    q75 = data[column].quantile(0.75)\n",
    "    iqr = q75 - q25\n",
    "    max = q75 + (iqr * 1.5)\n",
    "    data=data.where(data[column] < max)\n",
    "\n",
    "#To fix the heteroscedasticity.\n",
    "inv_predicted = [1/x for x in predicted]\n",
    "plt.scatter(inv_predicted, residual)\n",
    "plt.xlabel('Predicted (Transformed)')\n",
    "plt.ylabel('Residual')\n",
    "plt.axhline(y=0)\n",
    "plt.title('Residual vs. Predicted (Transformed)')\n",
    "plt.show()"
   ]
  }
 ],
 "metadata": {
  "kernelspec": {
   "display_name": "Python 3",
   "language": "python",
   "name": "python3"
  },
  "language_info": {
   "codemirror_mode": {
    "name": "ipython",
    "version": 3
   },
   "file_extension": ".py",
   "mimetype": "text/x-python",
   "name": "python",
   "nbconvert_exporter": "python",
   "pygments_lexer": "ipython3",
   "version": "3.7.0"
  }
 },
 "nbformat": 4,
 "nbformat_minor": 2
}
